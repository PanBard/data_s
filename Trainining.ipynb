{
 "cells": [
  {
   "cell_type": "code",
   "execution_count": null,
   "id": "de816ee4",
   "metadata": {},
   "outputs": [],
   "source": [
    "import os\n",
    "from os import listdir\n",
    "from os.path import isfile, join\n",
    "import tensorflow as tf\n",
    "from object_detection.utils import config_util\n",
    "from object_detection.protos import pipeline_pb2\n",
    "from google.protobuf import text_format\n",
    "import object_detection\n",
    "import wget\n",
    "import time\n",
    "import shutil\n",
    "from lxml import etree"
   ]
  },
  {
   "cell_type": "markdown",
   "id": "e37f8325",
   "metadata": {},
   "source": [
    "# <<<---configuration--->>>"
   ]
  },
  {
   "cell_type": "code",
   "execution_count": null,
   "id": "5eea01d1",
   "metadata": {},
   "outputs": [],
   "source": [
    "steps = '2000'"
   ]
  },
  {
   "cell_type": "markdown",
   "id": "609fd2af",
   "metadata": {},
   "source": [
    "# <<<------------------------>>>"
   ]
  },
  {
   "cell_type": "markdown",
   "id": "83d9cbee",
   "metadata": {},
   "source": [
    "making new name for custom detection model: \n",
    "(if u get error for first time - just skip and going)"
   ]
  },
  {
   "cell_type": "code",
   "execution_count": null,
   "id": "0e023fe4",
   "metadata": {},
   "outputs": [],
   "source": [
    "model_path = os.path.join('Tensorflow', 'workspace','my_models')\n",
    "if not os.path.exists(model_path):\n",
    "    current_model_name = \"custom_detection_model_00\"\n",
    "else:\n",
    "    models_names = [name for name in os.listdir(model_path) if os.path.isdir(model_path)]\n",
    "    current_model_name = 'custom_detection_model_'+str(len(models_names))"
   ]
  },
  {
   "cell_type": "code",
   "execution_count": null,
   "id": "fbc2b25e",
   "metadata": {},
   "outputs": [],
   "source": [
    "CUSTOM_MODEL_NAME = current_model_name \n",
    "PRETRAINED_MODEL_NAME = 'ssd_mobilenet_v2_fpnlite_320x320_coco17_tpu-8'\n",
    "PRETRAINED_MODEL_URL = 'http://download.tensorflow.org/models/object_detection/tf2/20200711/ssd_mobilenet_v2_fpnlite_320x320_coco17_tpu-8.tar.gz'\n",
    "TF_RECORD_SCRIPT_NAME = 'generate_tfrecord.py'\n",
    "LABEL_MAP_NAME = 'label_map.pbtxt'"
   ]
  },
  {
   "cell_type": "code",
   "execution_count": null,
   "id": "f120588f",
   "metadata": {},
   "outputs": [],
   "source": [
    "paths = {\n",
    "    'SCRIPTS_PATH': os.path.join('Tensorflow', 'workspace','my_models',CUSTOM_MODEL_NAME,'dev','scripts'),\n",
    "    'DOWNLOAD_REPO_PATH': os.path.join('Tensorflow','tf_repo_download_models'),\n",
    "    'APIMODEL_PATH': os.path.join('Tensorflow','tf_repo_download_models','apimodel'),\n",
    "    'CHECKPOINT_PATH': os.path.join('Tensorflow', 'workspace','my_models',CUSTOM_MODEL_NAME), \n",
    "    'ANNOTATION_PATH': os.path.join('Tensorflow', 'workspace','my_models',CUSTOM_MODEL_NAME,'dev','annotations'),\n",
    "    'IMAGE_PATH': os.path.join('Tensorflow', 'workspace','images'),\n",
    "    'PRETRAINED_MODEL_PATH': os.path.join('Tensorflow', 'workspace','my_models',CUSTOM_MODEL_NAME,'dev','pre-trained-models'),\n",
    "    'PRETRAINED_MODEL_PATH_DOWNLOAD': os.path.join('Tensorflow','tf_repo_download_models','pre-trained-models')\n",
    " }"
   ]
  },
  {
   "cell_type": "code",
   "execution_count": null,
   "id": "a4ce6c3d",
   "metadata": {},
   "outputs": [],
   "source": [
    "files = {\n",
    "    'PIPELINE_CONFIG':os.path.join('Tensorflow', 'workspace','my_models', CUSTOM_MODEL_NAME, 'pipeline.config'),\n",
    "    'TF_RECORD_SCRIPT': os.path.join(paths['DOWNLOAD_REPO_PATH'],'scripts', TF_RECORD_SCRIPT_NAME), \n",
    "    'LABELMAP': os.path.join(paths['ANNOTATION_PATH'], LABEL_MAP_NAME)\n",
    "}"
   ]
  },
  {
   "cell_type": "markdown",
   "id": "4d8219b9",
   "metadata": {},
   "source": [
    "making label list:"
   ]
  },
  {
   "cell_type": "code",
   "execution_count": null,
   "id": "a62fdc06",
   "metadata": {},
   "outputs": [],
   "source": [
    "train_folder_path = os.path.join('Tensorflow','workspace','images','train')\n",
    "tag = True\n",
    "xml_files_name = []\n",
    "adnotation = []\n",
    "all_files_from_train_dir = [f for f in listdir(train_folder_path) if isfile(join(train_folder_path, f))] #lista nazw plikow\n",
    "for i in all_files_from_train_dir :\n",
    "    if i[-1]=='l': (xml_files_name.append(i))\n",
    "xml_files_name.sort()\n",
    "\n",
    "for xml in xml_files_name:\n",
    "    XML_PATH = os.path.join(train_folder_path,xml)\n",
    "    root = etree.parse(XML_PATH) #open xml file\n",
    "    myroot = root.getroot() \n",
    "    label_name_from_xml = (myroot.find('.//name')).text #getting name from xml file\n",
    "    if label_name_from_xml not in adnotation: # not save duplicates\n",
    "        adnotation.append(label_name_from_xml)\n",
    "\n",
    "labels = []\n",
    "one_label={}\n",
    "for x in range(len(adnotation)):\n",
    "    one_label['name'] = adnotation[x]\n",
    "    one_label['id'] = x+1\n",
    "    temporary  = one_label.copy()\n",
    "    labels.append(temporary)\n",
    "    one_label.clear()\n",
    "    \n",
    "print(\"labels=[\")\n",
    "for x in labels:\n",
    "    print(x)\n",
    "print(\"]\")"
   ]
  },
  {
   "cell_type": "markdown",
   "id": "3b5aaddd",
   "metadata": {},
   "source": [
    "creating folders from path:"
   ]
  },
  {
   "cell_type": "code",
   "execution_count": null,
   "id": "c46cdf2c",
   "metadata": {},
   "outputs": [],
   "source": [
    "for path in paths.values():\n",
    "    if not os.path.exists(path):\n",
    "        if os.name == 'posix':\n",
    "            !mkdir -p {path}\n",
    "        if os.name == 'nt':\n",
    "            !mkdir {path}"
   ]
  },
  {
   "cell_type": "markdown",
   "id": "85435aa2",
   "metadata": {},
   "source": [
    "copy tarin and test folders with images to model folder:"
   ]
  },
  {
   "cell_type": "code",
   "execution_count": null,
   "id": "d0c8310c",
   "metadata": {},
   "outputs": [],
   "source": [
    "source_train_path = os.path.join(paths['IMAGE_PATH'],'train') \n",
    "source_test_path = os.path.join(paths['IMAGE_PATH'],'test')\n",
    "destination_train_path = os.path.join(paths['CHECKPOINT_PATH'],'dev','img','train')\n",
    "destination_test_path = os.path.join(paths['CHECKPOINT_PATH'],'dev','img','test')\n",
    "\n",
    "shutil.copytree(source_train_path, destination_train_path) #copy folders method\n",
    "shutil.copytree(source_test_path, destination_test_path) "
   ]
  },
  {
   "cell_type": "code",
   "execution_count": null,
   "id": "f2175300",
   "metadata": {},
   "outputs": [],
   "source": [
    "if not os.path.exists(os.path.join(paths['APIMODEL_PATH'], 'research', 'object_detection')):\n",
    "    !git clone https://github.com/tensorflow/models {paths['APIMODEL_PATH']}"
   ]
  },
  {
   "cell_type": "code",
   "execution_count": null,
   "id": "82b747bd",
   "metadata": {},
   "outputs": [],
   "source": [
    "if not os.path.exists(os.path.join(paths['PRETRAINED_MODEL_PATH_DOWNLOAD'],PRETRAINED_MODEL_NAME)): \n",
    "    !wget {PRETRAINED_MODEL_URL}\n",
    "    \n",
    "    !mv {PRETRAINED_MODEL_NAME+'.tar.gz'} {paths['PRETRAINED_MODEL_PATH_DOWNLOAD']}\n",
    "    !cd {paths['PRETRAINED_MODEL_PATH_DOWNLOAD']} && tar -zxvf {PRETRAINED_MODEL_NAME+'.tar.gz'}\n",
    "#     !wget {PRETRAINED_MODEL_URL}\n",
    "#     !mv {PRETRAINED_MODEL_NAME+'.tar.gz'} {paths['PRETRAINED_MODEL_PATH']}\n",
    "#     !cd {paths['PRETRAINED_MODEL_PATH']} && tar -zxvf {PRETRAINED_MODEL_NAME+'.tar.gz'}\n",
    "    shutil.copytree(os.path.join(paths['PRETRAINED_MODEL_PATH_DOWNLOAD'],PRETRAINED_MODEL_NAME), os.path.join(paths['PRETRAINED_MODEL_PATH'],PRETRAINED_MODEL_NAME))\n",
    "else: shutil.copytree(os.path.join(paths['PRETRAINED_MODEL_PATH_DOWNLOAD'],PRETRAINED_MODEL_NAME), os.path.join(paths['PRETRAINED_MODEL_PATH'],PRETRAINED_MODEL_NAME))"
   ]
  },
  {
   "cell_type": "code",
   "execution_count": null,
   "id": "1f8b8d53",
   "metadata": {},
   "outputs": [],
   "source": [
    "with open(files['LABELMAP'], 'w') as f:\n",
    "    for label in labels:\n",
    "        f.write('item { \\n')\n",
    "        f.write('\\tname:\\'{}\\'\\n'.format(label['name']))\n",
    "        f.write('\\tid:{}\\n'.format(label['id']))\n",
    "        f.write('}\\n')"
   ]
  },
  {
   "cell_type": "code",
   "execution_count": null,
   "id": "ec683d7f",
   "metadata": {},
   "outputs": [],
   "source": [
    "if not os.path.exists(files['TF_RECORD_SCRIPT']):\n",
    "    !git clone https://github.com/nicknochnack/GenerateTFRecord {os.path.join(paths['DOWNLOAD_REPO_PATH'],'scripts')}\n",
    "    shutil.copy(files['TF_RECORD_SCRIPT'], paths['SCRIPTS_PATH'])\n",
    "else: shutil.copy(files['TF_RECORD_SCRIPT'], paths['SCRIPTS_PATH'])"
   ]
  },
  {
   "cell_type": "code",
   "execution_count": null,
   "id": "62045159",
   "metadata": {},
   "outputs": [],
   "source": [
    "!python {files['TF_RECORD_SCRIPT']} -x {os.path.join(paths['IMAGE_PATH'], 'train')} -l {files['LABELMAP']} -o {os.path.join(paths['ANNOTATION_PATH'], 'train.record')} \n",
    "!python {files['TF_RECORD_SCRIPT']} -x {os.path.join(paths['IMAGE_PATH'], 'test')} -l {files['LABELMAP']} -o {os.path.join(paths['ANNOTATION_PATH'], 'test.record')} "
   ]
  },
  {
   "cell_type": "code",
   "execution_count": null,
   "id": "2824acf1",
   "metadata": {},
   "outputs": [],
   "source": [
    "!cp {os.path.join(paths['PRETRAINED_MODEL_PATH'], PRETRAINED_MODEL_NAME, 'pipeline.config')} {os.path.join(paths['CHECKPOINT_PATH'])}"
   ]
  },
  {
   "cell_type": "code",
   "execution_count": null,
   "id": "00b0b747",
   "metadata": {},
   "outputs": [],
   "source": [
    "config = config_util.get_configs_from_pipeline_file(files['PIPELINE_CONFIG'])"
   ]
  },
  {
   "cell_type": "code",
   "execution_count": null,
   "id": "96a6d356",
   "metadata": {},
   "outputs": [],
   "source": [
    "pipeline_config = pipeline_pb2.TrainEvalPipelineConfig()\n",
    "with tf.io.gfile.GFile(files['PIPELINE_CONFIG'], \"r\") as f:                                                                                                                                                                                                                     \n",
    "    proto_str = f.read()                                                                                                                                                                                                                                          \n",
    "    text_format.Merge(proto_str, pipeline_config)  "
   ]
  },
  {
   "cell_type": "code",
   "execution_count": null,
   "id": "9a16e1a4",
   "metadata": {},
   "outputs": [],
   "source": [
    "pipeline_config.model.ssd.num_classes = len(labels)\n",
    "pipeline_config.train_config.batch_size = 4\n",
    "pipeline_config.train_config.fine_tune_checkpoint = os.path.join(paths['PRETRAINED_MODEL_PATH'], PRETRAINED_MODEL_NAME, 'checkpoint', 'ckpt-0')\n",
    "pipeline_config.train_config.fine_tune_checkpoint_type = \"detection\"\n",
    "pipeline_config.train_input_reader.label_map_path= files['LABELMAP']\n",
    "pipeline_config.train_input_reader.tf_record_input_reader.input_path[:] = [os.path.join(paths['ANNOTATION_PATH'], 'train.record')]\n",
    "pipeline_config.eval_input_reader[0].label_map_path = files['LABELMAP']\n",
    "pipeline_config.eval_input_reader[0].tf_record_input_reader.input_path[:] = [os.path.join(paths['ANNOTATION_PATH'], 'test.record')]"
   ]
  },
  {
   "cell_type": "code",
   "execution_count": null,
   "id": "181cc372",
   "metadata": {},
   "outputs": [],
   "source": [
    "config_text = text_format.MessageToString(pipeline_config)                                                                                                                                                                                                        \n",
    "with tf.io.gfile.GFile(files['PIPELINE_CONFIG'], \"wb\") as f:                                                                                                                                                                                                                     \n",
    "    f.write(config_text)   "
   ]
  },
  {
   "cell_type": "code",
   "execution_count": null,
   "id": "a5025397",
   "metadata": {},
   "outputs": [],
   "source": [
    "TRAINING_SCRIPT = os.path.join(paths['APIMODEL_PATH'], 'research', 'object_detection', 'model_main_tf2.py')"
   ]
  },
  {
   "cell_type": "code",
   "execution_count": null,
   "id": "01796234",
   "metadata": {},
   "outputs": [],
   "source": [
    "command = \"python {} --model_dir={} --pipeline_config_path={} --num_train_steps={}\".format(TRAINING_SCRIPT, paths['CHECKPOINT_PATH'],files['PIPELINE_CONFIG'],steps)"
   ]
  },
  {
   "cell_type": "code",
   "execution_count": null,
   "id": "04593503",
   "metadata": {},
   "outputs": [],
   "source": [
    "start = time.time()\n",
    "\n",
    "!{command}\n",
    "\n",
    "end = time.time()\n",
    "hard_time =  (end-start)/60\n",
    "print('\\n Training time: {:.2f} min'.format(hard_time))"
   ]
  },
  {
   "cell_type": "markdown",
   "id": "b335f609",
   "metadata": {},
   "source": [
    "evaluation:"
   ]
  },
  {
   "cell_type": "code",
   "execution_count": null,
   "id": "42d2521c",
   "metadata": {},
   "outputs": [],
   "source": [
    "command = \"python {} --model_dir={} --pipeline_config_path={} --checkpoint_dir={}\".format(TRAINING_SCRIPT, paths['CHECKPOINT_PATH'],files['PIPELINE_CONFIG'], paths['CHECKPOINT_PATH'])\n",
    "print(command)"
   ]
  },
  {
   "cell_type": "code",
   "execution_count": null,
   "id": "7cd60d13",
   "metadata": {},
   "outputs": [],
   "source": [
    "!{command}"
   ]
  },
  {
   "cell_type": "code",
   "execution_count": null,
   "id": "1ecd9038",
   "metadata": {},
   "outputs": [],
   "source": []
  }
 ],
 "metadata": {
  "kernelspec": {
   "display_name": "tfod",
   "language": "python",
   "name": "tfod"
  },
  "language_info": {
   "codemirror_mode": {
    "name": "ipython",
    "version": 3
   },
   "file_extension": ".py",
   "mimetype": "text/x-python",
   "name": "python",
   "nbconvert_exporter": "python",
   "pygments_lexer": "ipython3",
   "version": "3.10.6"
  }
 },
 "nbformat": 4,
 "nbformat_minor": 5
}
