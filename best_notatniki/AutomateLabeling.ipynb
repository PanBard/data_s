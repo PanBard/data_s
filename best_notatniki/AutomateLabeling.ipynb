{
 "cells": [
  {
   "cell_type": "code",
   "execution_count": null,
   "id": "a329d3ad",
   "metadata": {},
   "outputs": [],
   "source": [
    "import os\n",
    "import time\n",
    "import tensorflow as tf\n",
    "from object_detection.utils import label_map_util\n",
    "from object_detection.utils import visualization_utils as viz_utils\n",
    "from object_detection.builders import model_builder\n",
    "from object_detection.utils import config_util\n",
    "import cv2 \n",
    "import numpy as np\n",
    "from matplotlib import pyplot as plt\n",
    "%matplotlib inline\n",
    "\n",
    "from os import listdir\n",
    "from os.path import isfile, join\n",
    "\n",
    "from lxml import etree\n",
    "\n"
   ]
  },
  {
   "cell_type": "markdown",
   "id": "f223d7e2",
   "metadata": {},
   "source": [
    "# <<<---configuration--->>>"
   ]
  },
  {
   "cell_type": "markdown",
   "id": "28cb8653",
   "metadata": {},
   "source": [
    "copy model to 'current_model' folder"
   ]
  },
  {
   "cell_type": "markdown",
   "id": "04bc04e1",
   "metadata": {},
   "source": [
    "copy images to 'img_for_labeling' folder"
   ]
  },
  {
   "cell_type": "markdown",
   "id": "33b9e3ec",
   "metadata": {},
   "source": [
    "# <<<---configuration--->>>"
   ]
  },
  {
   "cell_type": "code",
   "execution_count": null,
   "id": "48240ead",
   "metadata": {},
   "outputs": [],
   "source": [
    "model_path = os.path.join('Tensorflow', 'automated_labelling','current_model')\n",
    "MODEL_NAME = [name for name in os.listdir(model_path) if os.path.isdir(model_path)]\n",
    "\n",
    "CUSTOM_MODEL_NAME = MODEL_NAME[0] \n",
    "LABEL_MAP_NAME = 'label_map.pbtxt'\n",
    "\n",
    "print('Model: ',CUSTOM_MODEL_NAME)"
   ]
  },
  {
   "cell_type": "code",
   "execution_count": null,
   "id": "51defe59",
   "metadata": {},
   "outputs": [],
   "source": [
    "paths = {\n",
    "    'MODEL_PATH': os.path.join('Tensorflow', 'automated_labelling','current_model'),\n",
    "    'IMG_BEFORE_LAB_PATH': os.path.join('Tensorflow', 'automated_labelling','img_for_labeling'),\n",
    "    'IMG_AFTER_PATH': os.path.join('Tensorflow', 'automated_labelling','label_img'),\n",
    "    'CHECKPOINT_PATH': os.path.join('Tensorflow', 'automated_labelling','current_model',CUSTOM_MODEL_NAME),\n",
    "    'ANNOTATION_PATH': os.path.join('Tensorflow', 'automated_labelling','current_model',CUSTOM_MODEL_NAME,'dev','annotations'),\n",
    " }"
   ]
  },
  {
   "cell_type": "markdown",
   "id": "60ace974",
   "metadata": {},
   "source": [
    "creating folders from path:"
   ]
  },
  {
   "cell_type": "code",
   "execution_count": null,
   "id": "abb189cb",
   "metadata": {},
   "outputs": [],
   "source": [
    "for path in paths.values():\n",
    "    if not os.path.exists(path):\n",
    "        if os.name == 'posix':\n",
    "            !mkdir -p {path}\n",
    "        if os.name == 'nt':\n",
    "            !mkdir {path}"
   ]
  },
  {
   "cell_type": "code",
   "execution_count": null,
   "id": "7543ed70",
   "metadata": {},
   "outputs": [],
   "source": [
    "files = {\n",
    "    'PIPELINE_CONFIG':os.path.join(paths['MODEL_PATH'], CUSTOM_MODEL_NAME, 'pipeline.config'),\n",
    "    'LABELMAP': os.path.join(paths['ANNOTATION_PATH'], LABEL_MAP_NAME)\n",
    "}"
   ]
  },
  {
   "cell_type": "markdown",
   "id": "a78b62f7",
   "metadata": {},
   "source": [
    "Getting latest checkpoint from models folder:"
   ]
  },
  {
   "cell_type": "code",
   "execution_count": null,
   "id": "ed927405",
   "metadata": {},
   "outputs": [],
   "source": [
    "file_names_in_model_dir = os.path.join(paths['MODEL_PATH'],CUSTOM_MODEL_NAME)\n",
    "ckpt_files = []\n",
    "all_files_from_model_dir = [f for f in listdir(file_names_in_model_dir) if isfile(join(file_names_in_model_dir, f))] #lista nazw plikow\n",
    "for i in all_files_from_model_dir :\n",
    "    if i[-1]=='x': (ckpt_files.append(i))\n",
    "print(ckpt_files)\n",
    "numbers = []\n",
    "temp_num = \"\"\n",
    "# extract number of ckpt files:\n",
    "for one_name in ckpt_files:\n",
    "    for c in one_name:\n",
    "        if c.isdigit(): # finding numbers in string\n",
    "            temp_num = temp_num + c\n",
    "    numbers.append(int(temp_num))\n",
    "    temp_num=\"\"\n",
    "    max_num = max(numbers)#largest number from list\n",
    "latest_checkpoint_name = \"ckpt-\"+str(max_num)  #name of latest checkpoint\n",
    "print(CUSTOM_MODEL_NAME,'---------->',latest_checkpoint_name)"
   ]
  },
  {
   "cell_type": "code",
   "execution_count": null,
   "id": "88e1cd35",
   "metadata": {},
   "outputs": [],
   "source": [
    "# Load pipeline config and build a detection model\n",
    "configs = config_util.get_configs_from_pipeline_file(files['PIPELINE_CONFIG'])\n",
    "detection_model = model_builder.build(model_config=configs['model'], is_training=False)\n",
    "\n",
    "# Restore checkpoint\n",
    "ckpt = tf.compat.v2.train.Checkpoint(model=detection_model)\n",
    "ckpt.restore(os.path.join(paths['CHECKPOINT_PATH'],latest_checkpoint_name)).expect_partial()\n",
    "\n",
    "@tf.function\n",
    "def detect_fn(image):\n",
    "    image, shapes = detection_model.preprocess(image)\n",
    "    prediction_dict = detection_model.predict(image, shapes)\n",
    "    detections = detection_model.postprocess(prediction_dict, shapes)\n",
    "    return detections"
   ]
  },
  {
   "cell_type": "code",
   "execution_count": null,
   "id": "81d1d568",
   "metadata": {},
   "outputs": [],
   "source": [
    "category_index = label_map_util.create_category_index_from_labelmap(files['LABELMAP'])"
   ]
  },
  {
   "cell_type": "code",
   "execution_count": null,
   "id": "5ac717eb",
   "metadata": {},
   "outputs": [],
   "source": [
    "files = [f for f in listdir(paths['IMG_BEFORE_LAB_PATH']) if isfile(join(paths['IMG_BEFORE_LAB_PATH'], f))] #lista nazw plikow\n",
    "files.sort()\n",
    "jpg_images = [] #list for image names\n",
    "for i in files:\n",
    "    if i[-1]=='g':\n",
    "        jpg_images.append(i)\n",
    "# print(jpg_images)\n",
    "\n",
    "for image_name in jpg_images:\n",
    "    IMAGE_PATH = os.path.join(paths['IMG_BEFORE_LAB_PATH'], image_name)\n",
    "    \n",
    "    img = cv2.imread(IMAGE_PATH)\n",
    "    image_np = np.array(img)\n",
    "\n",
    "    input_tensor = tf.convert_to_tensor(np.expand_dims(image_np, 0), dtype=tf.float32)\n",
    "    detections = detect_fn(input_tensor)\n",
    "\n",
    "    num_detections = int(detections.pop('num_detections'))\n",
    "    detections = {key: value[0, :num_detections].numpy()\n",
    "                  for key, value in detections.items()}\n",
    "    detections['num_detections'] = num_detections\n",
    "\n",
    "    # detection_classes should be ints.\n",
    "    detections['detection_classes'] = detections['detection_classes'].astype(np.int64)\n",
    "\n",
    "    label_id_offset = 1\n",
    "    image_np_with_detections = image_np.copy()\n",
    "\n",
    "    viz_utils.visualize_boxes_and_labels_on_image_array(\n",
    "                image_np_with_detections,\n",
    "                detections['detection_boxes'],\n",
    "                detections['detection_classes']+label_id_offset,\n",
    "                detections['detection_scores'],\n",
    "                category_index,\n",
    "                use_normalized_coordinates=True,\n",
    "                max_boxes_to_draw=1,\n",
    "                min_score_thresh=.8,\n",
    "                agnostic_mode=False)\n",
    "    \n",
    "    ymin = int(detections['detection_boxes'][0][0]*480)\n",
    "    xmin = int(detections['detection_boxes'][0][1]*640)\n",
    "    ymax = int(detections['detection_boxes'][0][2]*480)\n",
    "    xmax = int(detections['detection_boxes'][0][3]*640)\n",
    "    \n",
    "    \n",
    "    obj_with_name = category_index[detections['detection_classes'][0]+label_id_offset] #wydobycie danej sekcji z nazwa\n",
    "    finded_object_name = obj_with_name['name']\n",
    "    \n",
    "    \n",
    "    root = etree.Element(\"annotation\")\n",
    "    folder = etree.SubElement(root, \"folder\").text = 'unimportant'\n",
    "    filename = etree.SubElement(root, \"filename\").text = image_name\n",
    "    path = etree.SubElement(root, \"path\").text = 'unimportant'\n",
    "    source = etree.SubElement(root, \"source\")\n",
    "    source_database = etree.SubElement(source, \"database\").text = 'Unknown'\n",
    "    size = etree.SubElement(root, \"size\")\n",
    "    size_width = etree.SubElement(size, \"width\").text = '640'\n",
    "    size_height = etree.SubElement(size, \"height\").text = '480'\n",
    "    size_depth = etree.SubElement(size, \"depth\").text = '3'\n",
    "    segmented = etree.SubElement(root, \"segmented\").text = '0'\n",
    "    object_ = etree.SubElement(root, \"object\")\n",
    "    object_name = etree.SubElement(object_, \"name\").text = finded_object_name\n",
    "    object_pose = etree.SubElement(object_, \"pose\").text = 'Unspecified'\n",
    "    object_truncated = etree.SubElement(object_, \"truncated\").text = '0'\n",
    "    object_difficult = etree.SubElement(object_, \"difficult\").text = '0'\n",
    "    object_bndbox = etree.SubElement(object_, \"bndbox\")\n",
    "    object_bndbox_xmin = etree.SubElement(object_bndbox, \"xmin\").text = str(xmin)\n",
    "    object_bndbox_ymin = etree.SubElement(object_bndbox, \"ymin\").text = str(ymin)\n",
    "    object_bndbox_xmax = etree.SubElement(object_bndbox, \"xmax\").text = str(xmax)\n",
    "    object_bndbox_ymax = etree.SubElement(object_bndbox, \"ymax\").text = str(ymax)\n",
    "    \n",
    "    tree_to_save = etree.ElementTree(root)\n",
    "    XML_NAME_FILE = image_name.rstrip('jpg')+\"xml\"\n",
    "    XML_PATH = os.path.join(paths['IMG_BEFORE_LAB_PATH'], XML_NAME_FILE)\n",
    "    tree_to_save.write(XML_PATH, pretty_print=True)\n",
    "    print(XML_NAME_FILE)\n",
    "    \n",
    "    \n",
    "    \n",
    "    \n",
    "    coordinate = ['Ymin', 'Xmin', 'Ymax', 'Xmax'] \n",
    "    \n",
    "    print(image_name,\"|\",\"class:\",detections['detection_classes'][0],\"| detection:\",detections['detection_scores'][0],\"|\")\n",
    "    print(detections['detection_boxes'][0])\n",
    "    print(detections['detection_boxes'][0]*480)\n",
    "    print(coordinate[0],int(detections['detection_boxes'][0][0]*480))\n",
    "    print(coordinate[1],int(detections['detection_boxes'][0][1]*640))\n",
    "    print(coordinate[2],int(detections['detection_boxes'][0][2]*480))\n",
    "    print(coordinate[3],int(detections['detection_boxes'][0][3]*640))\n",
    "    plt.imshow(cv2.cvtColor(image_np_with_detections, cv2.COLOR_BGR2RGB))\n",
    "    plt.show()\n",
    "\n",
    "\n",
    "    \n"
   ]
  },
  {
   "cell_type": "code",
   "execution_count": null,
   "id": "d54a6ea2",
   "metadata": {},
   "outputs": [],
   "source": []
  }
 ],
 "metadata": {
  "kernelspec": {
   "display_name": "tfod",
   "language": "python",
   "name": "tfod"
  },
  "language_info": {
   "codemirror_mode": {
    "name": "ipython",
    "version": 3
   },
   "file_extension": ".py",
   "mimetype": "text/x-python",
   "name": "python",
   "nbconvert_exporter": "python",
   "pygments_lexer": "ipython3",
   "version": "3.10.6"
  }
 },
 "nbformat": 4,
 "nbformat_minor": 5
}
