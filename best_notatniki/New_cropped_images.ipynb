{
 "cells": [
  {
   "cell_type": "code",
   "execution_count": null,
   "id": "b8e4d938",
   "metadata": {},
   "outputs": [],
   "source": [
    "import os\n",
    "import time\n",
    "import tensorflow as tf\n",
    "from object_detection.utils import label_map_util\n",
    "from object_detection.utils import visualization_utils as viz_utils\n",
    "from object_detection.builders import model_builder\n",
    "from object_detection.utils import config_util\n",
    "import cv2 \n",
    "import numpy as np\n",
    "from matplotlib import pyplot as plt\n",
    "%matplotlib inline\n",
    "\n",
    "from os import listdir\n",
    "from os.path import isfile, join\n",
    "\n",
    "from lxml import etree\n",
    "\n"
   ]
  },
  {
   "cell_type": "markdown",
   "id": "a3854f52",
   "metadata": {},
   "source": [
    "# <<<---configuration--->>>"
   ]
  },
  {
   "cell_type": "markdown",
   "id": "06f22f79",
   "metadata": {},
   "source": [
    "copy model to 'cropping_model' folder\n",
    "copy images to 'img_for_cropping' folder"
   ]
  },
  {
   "cell_type": "markdown",
   "id": "dc0a65bf",
   "metadata": {},
   "source": [
    "# <<<---configuration--->>>"
   ]
  },
  {
   "cell_type": "code",
   "execution_count": null,
   "id": "477832e9",
   "metadata": {},
   "outputs": [],
   "source": [
    "model_path = os.path.join('Tensorflow', 'crop_workspace','cropping_model')\n",
    "MODEL_NAME = [name for name in os.listdir(model_path) if os.path.isdir(model_path)]\n",
    "\n",
    "CUSTOM_MODEL_NAME = MODEL_NAME[0] \n",
    "LABEL_MAP_NAME = 'label_map.pbtxt'\n",
    "\n",
    "print('Model: ',CUSTOM_MODEL_NAME)"
   ]
  },
  {
   "cell_type": "code",
   "execution_count": null,
   "id": "12f8bbdc",
   "metadata": {},
   "outputs": [],
   "source": [
    "paths = {\n",
    "    'MODEL_PATH': os.path.join('Tensorflow', 'crop_workspace','cropping_model'),\n",
    "    'IMG_BEFORE_CROP_PATH': os.path.join('Tensorflow', 'crop_workspace','img_for_cropping'),\n",
    "    'IMG_AFTER_CROP': os.path.join('Tensorflow', 'crop_workspace','cropped_img'),\n",
    "    'CHECKPOINT_PATH': os.path.join('Tensorflow', 'crop_workspace','cropping_model',CUSTOM_MODEL_NAME),\n",
    "    'ANNOTATION_PATH': os.path.join('Tensorflow', 'crop_workspace','cropping_model',CUSTOM_MODEL_NAME,'dev','annotations'),\n",
    " }"
   ]
  },
  {
   "cell_type": "markdown",
   "id": "17ed141c",
   "metadata": {},
   "source": [
    "creating folders from path:"
   ]
  },
  {
   "cell_type": "code",
   "execution_count": null,
   "id": "eda8ef97",
   "metadata": {},
   "outputs": [],
   "source": [
    "for path in paths.values():\n",
    "    if not os.path.exists(path):\n",
    "        if os.name == 'posix':\n",
    "            !mkdir -p {path}\n",
    "        if os.name == 'nt':\n",
    "            !mkdir {path}"
   ]
  },
  {
   "cell_type": "code",
   "execution_count": null,
   "id": "03d59c0f",
   "metadata": {},
   "outputs": [],
   "source": [
    "files = {\n",
    "    'PIPELINE_CONFIG':os.path.join(paths['MODEL_PATH'], CUSTOM_MODEL_NAME, 'pipeline.config'),\n",
    "    'LABELMAP': os.path.join(paths['ANNOTATION_PATH'], LABEL_MAP_NAME)\n",
    "}"
   ]
  },
  {
   "cell_type": "markdown",
   "id": "08f8e870",
   "metadata": {},
   "source": [
    "Getting latest checkpoint from models folder:"
   ]
  },
  {
   "cell_type": "code",
   "execution_count": null,
   "id": "c3d79fb1",
   "metadata": {},
   "outputs": [],
   "source": [
    "file_names_in_model_dir = os.path.join(paths['MODEL_PATH'],CUSTOM_MODEL_NAME)\n",
    "ckpt_files = []\n",
    "all_files_from_model_dir = [f for f in listdir(file_names_in_model_dir) if isfile(join(file_names_in_model_dir, f))] #lista nazw plikow\n",
    "for i in all_files_from_model_dir :\n",
    "    if i[-1]=='x': (ckpt_files.append(i))\n",
    "print(ckpt_files)\n",
    "numbers = []\n",
    "temp_num = \"\"\n",
    "# extract number of ckpt files:\n",
    "for one_name in ckpt_files:\n",
    "    for c in one_name:\n",
    "        if c.isdigit(): # finding numbers in string\n",
    "            temp_num = temp_num + c\n",
    "    numbers.append(int(temp_num))\n",
    "    temp_num=\"\"\n",
    "    max_num = max(numbers)#largest number from list\n",
    "latest_checkpoint_name = \"ckpt-\"+str(max_num)  #name of latest checkpoint\n",
    "print(CUSTOM_MODEL_NAME,'---------->',latest_checkpoint_name)"
   ]
  },
  {
   "cell_type": "code",
   "execution_count": null,
   "id": "ae08c282",
   "metadata": {},
   "outputs": [],
   "source": [
    "# Load pipeline config and build a detection model\n",
    "configs = config_util.get_configs_from_pipeline_file(files['PIPELINE_CONFIG'])\n",
    "detection_model = model_builder.build(model_config=configs['model'], is_training=False)\n",
    "\n",
    "# Restore checkpoint\n",
    "ckpt = tf.compat.v2.train.Checkpoint(model=detection_model)\n",
    "ckpt.restore(os.path.join(paths['CHECKPOINT_PATH'],latest_checkpoint_name)).expect_partial()\n",
    "\n",
    "@tf.function\n",
    "def detect_fn(image):\n",
    "    image, shapes = detection_model.preprocess(image)\n",
    "    prediction_dict = detection_model.predict(image, shapes)\n",
    "    detections = detection_model.postprocess(prediction_dict, shapes)\n",
    "    return detections"
   ]
  },
  {
   "cell_type": "code",
   "execution_count": null,
   "id": "23bb8f8d",
   "metadata": {},
   "outputs": [],
   "source": [
    "category_index = label_map_util.create_category_index_from_labelmap(files['LABELMAP'])"
   ]
  },
  {
   "cell_type": "code",
   "execution_count": null,
   "id": "7d35b4ec",
   "metadata": {},
   "outputs": [],
   "source": [
    "TEST_PATH = os.path.join(paths['IMG_BEFORE_CROP_PATH'])\n",
    "RIGHT_DETECTION_FILE_NAME =[]\n",
    "BAD_DETECTION_FILE_NAME =[]\n",
    "detection_status=\"\"\n",
    "\n",
    "files = [f for f in listdir(TEST_PATH) if isfile(join(TEST_PATH, f))] #lista nazw plikow\n",
    "files.sort()\n",
    "jpg_images = [] #list for image names\n",
    "for i in files:\n",
    "    if i[-1]=='g':\n",
    "        jpg_images.append(i)\n",
    "\n",
    "koniec = True\n",
    "        \n",
    "for image_name in jpg_images:\n",
    "    IMAGE_PATH = os.path.join(TEST_PATH, image_name)\n",
    "    \n",
    "    img = cv2.imread(IMAGE_PATH)\n",
    "    img2 = img\n",
    "    image_np = np.array(img)\n",
    "\n",
    "    input_tensor = tf.convert_to_tensor(np.expand_dims(image_np, 0), dtype=tf.float32)\n",
    "    detections = detect_fn(input_tensor)\n",
    "\n",
    "    num_detections = int(detections.pop('num_detections'))\n",
    "    detections = {key: value[0, :num_detections].numpy()\n",
    "                  for key, value in detections.items()}\n",
    "    detections['num_detections'] = num_detections\n",
    "\n",
    "    # detection_classes should be ints.\n",
    "    detections['detection_classes'] = detections['detection_classes'].astype(np.int64)\n",
    "\n",
    "    label_id_offset = 1\n",
    "    image_np_with_detections = image_np.copy()\n",
    "\n",
    "    viz_utils.visualize_boxes_and_labels_on_image_array(\n",
    "                image_np_with_detections,\n",
    "                detections['detection_boxes'],\n",
    "                detections['detection_classes']+label_id_offset,\n",
    "                detections['detection_scores'],\n",
    "                category_index,\n",
    "                use_normalized_coordinates=True,\n",
    "                max_boxes_to_draw=1,\n",
    "                min_score_thresh=.1,\n",
    "                agnostic_mode=False)\n",
    "    \n",
    "    #-----checking if detection is legit\n",
    "#     image_name.rstrip('.jpg')\n",
    "    do_nazwy = category_index[detections['detection_classes'][0]+label_id_offset] #wydobycie danej sekcji z nazwa\n",
    "    finded_object_name = do_nazwy['name']\n",
    "\n",
    "\n",
    "\n",
    "    if koniec:\n",
    "        new_folder_path = paths['IMG_AFTER_CROP']\n",
    "        img3 = img2.copy()\n",
    "        height = img2.shape[0]\n",
    "        width = img2.shape[1]\n",
    "        img_alone_name = image_name.rstrip('.jpg')\n",
    "        box = detections['detection_boxes'][0]\n",
    "        \n",
    "        \n",
    "        x1=int(box[1]*width)\n",
    "        y1=int(box[0]*height)\n",
    "        x2=int(box[3]*width)\n",
    "        y2=int(box[2]*height)\n",
    "        \n",
    "        xx1=x1-10\n",
    "        yy1=int(((height-y1)/2)+y1)\n",
    "        xx2=xx1+90\n",
    "        yy2=yy1+220\n",
    "        crp_image = img2[yy1:yy2, xx1:xx2]\n",
    "        \n",
    "        \n",
    "        \n",
    "# #     ---------zapis\n",
    "        # if statement just in case if cropping go wrong and array is empty\n",
    "        if crp_image.size > 0: \n",
    "            SAVE_PATH = os.path.join(new_folder_path, img_alone_name+'_cropped.jpg')\n",
    "            cv2.imwrite(SAVE_PATH,  crp_image) \n",
    "# #     ---------zapis\n",
    "            plt.imshow(cv2.cvtColor(crp_image, cv2.COLOR_BGR2RGB))\n",
    "            plt.show()\n",
    "        \n",
    "        \n",
    "#         print('x_min=', x1,' y_min=', y1,' x_max=', x2,' y_max=',y2)\n",
    "#         plt.imshow(cv2.cvtColor(img3, cv2.COLOR_BGR2RGB))\n",
    "#         plt.show()\n",
    "#         print('---------------------------------------------------------------')\n",
    "\n",
    "\n",
    "    \n"
   ]
  },
  {
   "cell_type": "code",
   "execution_count": null,
   "id": "57180200",
   "metadata": {},
   "outputs": [],
   "source": []
  }
 ],
 "metadata": {
  "kernelspec": {
   "display_name": "tfod",
   "language": "python",
   "name": "tfod"
  },
  "language_info": {
   "codemirror_mode": {
    "name": "ipython",
    "version": 3
   },
   "file_extension": ".py",
   "mimetype": "text/x-python",
   "name": "python",
   "nbconvert_exporter": "python",
   "pygments_lexer": "ipython3",
   "version": "3.10.6"
  }
 },
 "nbformat": 4,
 "nbformat_minor": 5
}
