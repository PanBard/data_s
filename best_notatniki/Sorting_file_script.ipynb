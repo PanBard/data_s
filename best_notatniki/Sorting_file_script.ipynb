{
 "cells": [
  {
   "cell_type": "code",
   "execution_count": null,
   "id": "4f265114",
   "metadata": {},
   "outputs": [],
   "source": [
    "import os\n",
    "import shutil"
   ]
  },
  {
   "cell_type": "code",
   "execution_count": null,
   "id": "08a1e61e",
   "metadata": {},
   "outputs": [],
   "source": [
    "paths = {\n",
    "    'MAIN_PATH' : os.path.join('Tensorflow', 'sorting_hat'),\n",
    "    'BEFORE_SORT_PATH': os.path.join('Tensorflow', 'sorting_hat','folder_for_file_before_sorting'),\n",
    "    'AFTER_SORT_PATH': os.path.join('Tensorflow', 'sorting_hat','sorting_result')\n",
    " }"
   ]
  },
  {
   "cell_type": "code",
   "execution_count": null,
   "id": "e10483af",
   "metadata": {},
   "outputs": [],
   "source": [
    "for path in paths.values():\n",
    "    if not os.path.exists(path):\n",
    "            os.mkdir(path)"
   ]
  },
  {
   "cell_type": "markdown",
   "id": "5895824b",
   "metadata": {},
   "source": [
    "# <<<---configuration--->>>\n",
    "\n",
    "put in 'img_for_labeling' folder files to sort \n",
    "\n",
    "# <<<---configuration--->>>"
   ]
  },
  {
   "cell_type": "code",
   "execution_count": null,
   "id": "be911884",
   "metadata": {},
   "outputs": [],
   "source": [
    "files_names = [name for name in os.listdir(paths['BEFORE_SORT_PATH']) if os.path.isdir(paths['BEFORE_SORT_PATH'])]\n",
    "print(files_names,len(files_names))\n",
    "files_name2 =[]\n",
    "for name in files_names:\n",
    "    name = name.rpartition('.')[0] # get all letters before dot\n",
    "#     res = \"\".join([ch for ch in name if ch.isalpha()])\n",
    "    res = '' .join((z for z in name if not z.isdigit()))\n",
    "    name.rstrip('jpg')\n",
    "    files_name2.append(res)\n",
    "    res = \"\"\n",
    "\n",
    "print('++++',files_name2,len(files_name2))\n",
    "name_for_folders = list(set(files_name2)) \n",
    "print('=====',name_for_folders,len(name_for_folders))\n",
    "\n",
    "for name in name_for_folders:\n",
    "    path = os.path.join(paths['AFTER_SORT_PATH'],name)\n",
    "    if not os.path.exists(path):\n",
    "            os.mkdir(path)\n",
    "\n",
    "# for main_name in files_names:\n",
    "#     for m in name_for_folders:\n",
    "#         if \n",
    "    print(main_name)"
   ]
  },
  {
   "cell_type": "code",
   "execution_count": null,
   "id": "f9c933b6",
   "metadata": {},
   "outputs": [],
   "source": [
    "source_train_path = os.path.join(paths['IMAGE_PATH'],'train') \n",
    "source_test_path = os.path.join(paths['IMAGE_PATH'],'test')\n",
    "destination_train_path = os.path.join(paths['CHECKPOINT_PATH'],'dev','img','train')\n",
    "destination_test_path = os.path.join(paths['CHECKPOINT_PATH'],'dev','img','test')\n",
    "\n",
    "shutil.copytree(source_train_path, destination_train_path) #copy folders method\n",
    "shutil.copytree(source_test_path, destination_test_path) "
   ]
  }
 ],
 "metadata": {
  "kernelspec": {
   "display_name": "tfod",
   "language": "python",
   "name": "tfod"
  },
  "language_info": {
   "codemirror_mode": {
    "name": "ipython",
    "version": 3
   },
   "file_extension": ".py",
   "mimetype": "text/x-python",
   "name": "python",
   "nbconvert_exporter": "python",
   "pygments_lexer": "ipython3",
   "version": "3.10.6"
  }
 },
 "nbformat": 4,
 "nbformat_minor": 5
}
