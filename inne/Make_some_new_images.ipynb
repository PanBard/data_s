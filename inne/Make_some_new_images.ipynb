{
 "cells": [
  {
   "cell_type": "markdown",
   "id": "b6ee7af7",
   "metadata": {},
   "source": [
    "put folder or folders with images in 'multiply' folder and output will be in 'img_output_folder'"
   ]
  },
  {
   "cell_type": "code",
   "execution_count": 1,
   "id": "bb1f72d6",
   "metadata": {},
   "outputs": [
    {
     "name": "stderr",
     "output_type": "stream",
     "text": [
      "2023-05-10 00:41:31.403271: I tensorflow/tsl/cuda/cudart_stub.cc:28] Could not find cuda drivers on your machine, GPU will not be used.\n",
      "2023-05-10 00:41:31.464864: I tensorflow/tsl/cuda/cudart_stub.cc:28] Could not find cuda drivers on your machine, GPU will not be used.\n",
      "2023-05-10 00:41:32.498925: W tensorflow/compiler/tf2tensorrt/utils/py_utils.cc:38] TF-TRT Warning: Could not find TensorRT\n"
     ]
    },
    {
     "name": "stdout",
     "output_type": "stream",
     "text": [
      "['12zolty_p', '3czarny', '2bialy', '11fioletowy_p', '8nieb_rozowy', '4zolty', '6zielony', '5pomaranczowy', '7niebieski', '10pomaranczowy_p']\n",
      "Found 198 images belonging to 1 classes.\n",
      "done for:  12zolty_p\n",
      "Found 199 images belonging to 1 classes.\n",
      "done for:  3czarny\n",
      "Found 197 images belonging to 1 classes.\n",
      "done for:  2bialy\n",
      "Found 197 images belonging to 1 classes.\n",
      "done for:  11fioletowy_p\n",
      "Found 200 images belonging to 1 classes.\n",
      "done for:  8nieb_rozowy\n",
      "Found 187 images belonging to 1 classes.\n",
      "done for:  4zolty\n",
      "Found 198 images belonging to 1 classes.\n",
      "done for:  6zielony\n",
      "Found 199 images belonging to 1 classes.\n",
      "done for:  5pomaranczowy\n",
      "Found 200 images belonging to 1 classes.\n",
      "done for:  7niebieski\n",
      "Found 200 images belonging to 1 classes.\n",
      "done for:  10pomaranczowy_p\n",
      "\n",
      " Generating time: 5.87 min\n"
     ]
    }
   ],
   "source": [
    "import os\n",
    "from keras.preprocessing.image import ImageDataGenerator\n",
    "import shutil\n",
    "import time\n",
    "\n",
    "start = time.time()\n",
    "datagen = ImageDataGenerator(\n",
    "    rotation_range=7,\n",
    "    width_shift_range=0.2,\n",
    "    height_shift_range=0.2,\n",
    "#     shear_range=0.2,\n",
    "    zoom_range = 0.2,\n",
    "    brightness_range = (0.4,1.4),\n",
    "    fill_mode='reflect',\n",
    "#     horizontal_flip = True\n",
    ")\n",
    "\n",
    "input_folder_dir = os.path.join('multiply')\n",
    "output_folder_dir = os.path.join('img_output_folder')\n",
    "temporary_folder_dir = os.path.join('tmp')\n",
    "\n",
    "folders_in_automat = [f for f in os.listdir(input_folder_dir) if os.path.isdir(os.path.join(input_folder_dir, f))] #lista nazw plikow\n",
    "print(folders_in_automat)\n",
    "\n",
    "if not os.path.exists(output_folder_dir):\n",
    "    os.mkdir(output_folder_dir)\n",
    "    \n",
    "if not os.path.exists(temporary_folder_dir):\n",
    "    os.mkdir(temporary_folder_dir)\n",
    "    \n",
    "\n",
    "\n",
    "for new_folder_name in folders_in_automat:\n",
    "    source_dir = os.path.join(input_folder_dir,new_folder_name)\n",
    "    destination_dir = os.path.join(temporary_folder_dir,new_folder_name,new_folder_name)\n",
    "    shutil.copytree(source_dir, destination_dir)\n",
    "\n",
    "for new_folder_name in folders_in_automat:\n",
    "    path = os.path.join(output_folder_dir, new_folder_name)\n",
    "    if not os.path.exists(path):\n",
    "        os.mkdir(path)\n",
    "\n",
    "    input_folder_dir_open = os.path.join(temporary_folder_dir,new_folder_name)\n",
    "    output_folder_dir_save = os.path.join(output_folder_dir,new_folder_name)\n",
    "    i = 0\n",
    "    for batch in  datagen.flow_from_directory(\n",
    "        directory=input_folder_dir_open,\n",
    "        batch_size = 300,\n",
    "        color_mode='rgb',\n",
    "        target_size=(220,90),\n",
    "        save_to_dir=output_folder_dir_save,\n",
    "        save_prefix='aug',\n",
    "        save_format='jpg',\n",
    "        ):\n",
    "\n",
    "        i+=1\n",
    "        if i > 30:\n",
    "            break\n",
    "    path = ''\n",
    "    output_folder_dir_save=''\n",
    "    print('done for: ',new_folder_name)\n",
    "    \n",
    "shutil.rmtree(temporary_folder_dir, ignore_errors=True)\n",
    "\n",
    "\n",
    "end = time.time()\n",
    "hard_time =  (end-start)/60\n",
    "print('\\n Generating time: {:.2f} min'.format(hard_time))\n"
   ]
  },
  {
   "cell_type": "code",
   "execution_count": null,
   "id": "dcd28d37",
   "metadata": {},
   "outputs": [],
   "source": [
    "# datagen = ImageDataGenerator(\n",
    "#     rotation_range=10,\n",
    "#     width_shift_range=0.2,\n",
    "#     height_shift_range=0.2,\n",
    "#     shear_range=0.2,\n",
    "#     zoom_range = 0.2,\n",
    "#     brightness_range = (0.5,1.5),\n",
    "# #     fill_mode='reflect',\n",
    "# #     horizontal_flip = True\n",
    "# )\n",
    "# i = 0\n",
    "# for batch in  datagen.flow_from_directory(\n",
    "#     directory='multiply/',\n",
    "#     batch_size = 300,\n",
    "#     color_mode='rgb',\n",
    "#     target_size=(90,90),\n",
    "#     save_to_dir='elo',\n",
    "#     save_prefix='aug',\n",
    "#     save_format='jpg',\n",
    "#     ):\n",
    "#     i+=1\n",
    "#     if i > 1:\n",
    "#         break"
   ]
  },
  {
   "cell_type": "code",
   "execution_count": null,
   "id": "a8676ffb",
   "metadata": {},
   "outputs": [],
   "source": []
  }
 ],
 "metadata": {
  "kernelspec": {
   "display_name": "klasyfikacja",
   "language": "python",
   "name": "klasyfikacja"
  },
  "language_info": {
   "codemirror_mode": {
    "name": "ipython",
    "version": 3
   },
   "file_extension": ".py",
   "mimetype": "text/x-python",
   "name": "python",
   "nbconvert_exporter": "python",
   "pygments_lexer": "ipython3",
   "version": "3.10.6"
  }
 },
 "nbformat": 4,
 "nbformat_minor": 5
}
